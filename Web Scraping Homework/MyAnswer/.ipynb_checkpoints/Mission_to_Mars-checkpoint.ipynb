{
 "cells": [
  {
   "cell_type": "code",
   "execution_count": 1,
   "metadata": {},
   "outputs": [],
   "source": [
    "from bs4 import BeautifulSoup as bs\n",
    "import requests\n",
    "response = requests.get('https://mars.nasa.gov/news').text\n",
    "soup = bs(response, 'lxml')\n",
    "#print(soup.prettify())"
   ]
  },
  {
   "cell_type": "code",
   "execution_count": null,
   "metadata": {},
   "outputs": [],
   "source": [
    "results = soup.find('div', class_=\"slide\")\n",
    "print(results.prettify())"
   ]
  },
  {
   "cell_type": "code",
   "execution_count": null,
   "metadata": {},
   "outputs": [],
   "source": [
    "title = results.find('div', class_= 'content_title').text\n",
    "print(title)"
   ]
  },
  {
   "cell_type": "code",
   "execution_count": null,
   "metadata": {},
   "outputs": [],
   "source": [
    "body = results.find('div', class_='rollover_description_inner').text\n",
    "print(body)"
   ]
  },
  {
   "cell_type": "code",
   "execution_count": null,
   "metadata": {},
   "outputs": [],
   "source": [
    "#NASA Mars News\n",
    "import pandas as pd\n",
    "news=[]\n",
    "for result in soup.find_all('div', class_=\"slide\"):\n",
    "    title = result.find('div', class_='content_title').text\n",
    "    body = result.find('div', class_='rollover_description_inner').text\n",
    "    news.append({'title':title.replace(\"\\n\",\"\"), 'body':body.replace(\"\\n\",\"\")})\n",
    "\n",
    "df_news = pd.DataFrame(news)   \n",
    "\n",
    "df_news"
   ]
  },
  {
   "cell_type": "code",
   "execution_count": null,
   "metadata": {},
   "outputs": [],
   "source": [
    "#JPL Mars Space Image url\n",
    "from splinter import Browser\n",
    "\n",
    "executable_path = {'executable_path':'chromedriver.exe'}\n",
    "\n",
    "browser = Browser('chrome', **executable_path)\n",
    "\n",
    "url = 'https://www.jpl.nasa.gov/spaceimages/?search=&catagory=Mars'\n",
    "\n",
    "browser.visit(url)\n",
    "\n",
    "browser.find_by_css('footer').click()\n",
    "\n",
    "browser.find_by_xpath('//*[@id=\"fancybox-lock\"]/div/div[2]/div/div[1]/a[2]').click()\n",
    "\n",
    "browser.find_by_css('figure').click()\n",
    "\n",
    "featured_image_url = browser.url\n",
    "\n",
    "print(featured_image_url)\n",
    "\n",
    "browser.quit()\n"
   ]
  },
  {
   "cell_type": "code",
   "execution_count": null,
   "metadata": {},
   "outputs": [],
   "source": [
    "#Mars Weather from twitter\n",
    "executable_path = {'executable_path':'chromedriver.exe'}\n",
    "\n",
    "browser = Browser('chrome', **executable_path)\n",
    "\n",
    "url = 'https://twitter.com/marswxreport?lang=en'\n",
    "\n",
    "browser.visit(url)\n",
    "\n",
    "response = requests.get('https://twitter.com/marswxreport?lang=en').text\n",
    "\n",
    "soup = bs(response, 'lxml')\n",
    "\n",
    "num = 1\n",
    "\n",
    "for result in soup.find_all('p', class_ =\"tweet-text\"):\n",
    "    result = str(result)\n",
    "   \n",
    "    if \"InSight\" in result:\n",
    "        start = 'InSight '\n",
    "        end = '<a'  \n",
    "        mars_weather = (result[result.find(start)+len(start):result.rfind(end)])\n",
    "        print(mars_weather)\n",
    "        break\n",
    "    else:\n",
    "        num = num + 1\n",
    "        if num > 20:\n",
    "            break\n",
    "           \n",
    "browser.quit()"
   ]
  },
  {
   "cell_type": "code",
   "execution_count": null,
   "metadata": {},
   "outputs": [],
   "source": [
    "# Visit the Mars facts webpage and scrape table data into Pandas\n",
    "from splinter import Browser\n",
    "import pandas as pd\n",
    "\n",
    "executable_path = {'executable_path':'chromedriver.exe'}\n",
    "\n",
    "browser = Browser('chrome', **executable_path)\n",
    "\n",
    "url = 'https://space-facts.com/mars/'\n",
    "\n",
    "browser.visit(url)\n",
    "\n",
    "# place data into a dataframe output to an HTML string\n",
    "grab=pd.read_html(url)\n",
    "mars_data=pd.DataFrame(grab[0])\n",
    "mars_data.columns=['Mars','Data']\n",
    "mars_table=mars_data.set_index(\"Mars\")\n",
    "marsdata = mars_table.to_html(classes='marsdata')\n",
    "marsdata=marsdata.replace('\\n', ' ')\n",
    "marsdata"
   ]
  },
  {
   "cell_type": "code",
   "execution_count": 2,
   "metadata": {},
   "outputs": [
    {
     "name": "stdout",
     "output_type": "stream",
     "text": [
      "[{'title': 'Cerberus Hemisphere Enhanced', 'img_url': 'https://astrogeology.usgs.gov/cache/images/cfa62af2557222a02478f1fcd781d445_cerberus_enhanced.tif_full.jpg'}, {'title': 'Schiaparelli Hemisphere Enhanced', 'img_url': 'https://astrogeology.usgs.gov/cache/images/3cdd1cbf5e0813bba925c9030d13b62e_schiaparelli_enhanced.tif_full.jpg'}, {'title': 'Syrtis Major Hemisphere Enhanced', 'img_url': 'https://astrogeology.usgs.gov/cache/images/ae209b4e408bb6c3e67b6af38168cf28_syrtis_major_enhanced.tif_full.jpg'}, {'title': 'Valles Marineris Hemisphere Enhanced', 'img_url': 'https://astrogeology.usgs.gov/cache/images/7cf2da4bf549ed01c17f206327be4db7_valles_marineris_enhanced.tif_full.jpg'}]\n"
     ]
    }
   ],
   "source": [
    "#Mars Hemisphers\n",
    "from splinter import Browser\n",
    "import pandas as pd\n",
    "import time\n",
    "\n",
    "executable_path = {'executable_path':'chromedriver.exe'}\n",
    "\n",
    "browser = Browser('chrome', **executable_path)\n",
    "\n",
    "url = 'https://astrogeology.usgs.gov/search/results?q=hemisphere+enhanced&k1=target&v1=Mars'\n",
    "\n",
    "browser.visit(url)\n",
    "\n",
    "mars_hemis=[]\n",
    "\n",
    "\n",
    "for i in range (4):\n",
    "    time.sleep(5)\n",
    "    images = browser.find_by_tag('h3')\n",
    "    images[i].click()\n",
    "    new_url = browser.url\n",
    "    response = requests.get(new_url).text\n",
    "    soup = bs(response, 'lxml')\n",
    "    partial = soup.find(\"img\", class_=\"wide-image\")[\"src\"]\n",
    "    img_title = soup.find(\"h2\",class_=\"title\").text\n",
    "    img_url = 'https://astrogeology.usgs.gov'+ partial\n",
    "    dictionary={\"title\":img_title,\"img_url\":img_url}\n",
    "    mars_hemis.append(dictionary)\n",
    "    browser.back()\n",
    "\n",
    "print(mars_hemis)"
   ]
  },
  {
   "cell_type": "code",
   "execution_count": null,
   "metadata": {},
   "outputs": [],
   "source": []
  }
 ],
 "metadata": {
  "kernelspec": {
   "display_name": "Python 3",
   "language": "python",
   "name": "python3"
  },
  "language_info": {
   "codemirror_mode": {
    "name": "ipython",
    "version": 3
   },
   "file_extension": ".py",
   "mimetype": "text/x-python",
   "name": "python",
   "nbconvert_exporter": "python",
   "pygments_lexer": "ipython3",
   "version": "3.7.4"
  }
 },
 "nbformat": 4,
 "nbformat_minor": 2
}
