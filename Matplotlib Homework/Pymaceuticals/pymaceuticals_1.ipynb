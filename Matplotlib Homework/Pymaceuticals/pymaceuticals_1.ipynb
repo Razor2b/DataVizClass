{
 "cells": [
  {
   "cell_type": "code",
   "execution_count": null,
   "metadata": {},
   "outputs": [],
   "source": [
    "# Dependencies and Setup\n",
    "%matplotlib inline\n",
    "import matplotlib.pyplot as plt\n",
    "import pandas as pd\n",
    "import numpy as np\n",
    "\n",
    "# Hide warning messages in notebook\n",
    "import warnings\n",
    "warnings.filterwarnings('ignore')\n",
    "\n",
    "# File to Load (Remember to Change These)\n",
    "mouse_drug_data_to_load = \"data/mouse_drug_data.csv\"\n",
    "clinical_trial_data_to_load = \"data/clinicaltrial_data.csv\"\n",
    "\n",
    "# Read the Mouse and Drug Data and the Clinical Trial Data\n",
    "mouse_df = pd.read_csv(mouse_drug_data_to_load)\n",
    "clinical_df = pd.read_csv(clinical_trial_data_to_load)\n",
    "\n",
    "# Combine the data into a single dataset\n",
    "trial_data_df = pd.merge(mouse_df, clinical_df, how=\"left\", on=[\"Mouse ID\", \"Mouse ID\"])\n",
    "\n",
    "# Display the data table for preview\n",
    "trial_data_df.head()\n"
   ]
  },
  {
   "cell_type": "markdown",
   "metadata": {},
   "source": [
    "## Tumor Response to Treatment"
   ]
  },
  {
   "cell_type": "code",
   "execution_count": null,
   "metadata": {},
   "outputs": [],
   "source": [
    "# Store the Mean Tumor Volume Data Grouped by Drug and Timepoint \n",
    "\n",
    "df2 = trial_data_df.rename(columns={\"Mouse ID\": \"mID\",\n",
    "                          \"Tumor Volume (mm3)\": \"TV\",\n",
    "                          \"Metastatic Sites\":\"MS\"})\n",
    "\n",
    "df3 = df2.groupby(['Drug', 'Timepoint']).agg({'TV':\"mean\"})\n",
    "df3 = df3.reset_index()\n",
    "\n",
    "df3.head(20)\n",
    "\n",
    "# Convert to DataFrame\n",
    "# Preview DataFrame\n",
    "\n"
   ]
  },
  {
   "cell_type": "code",
   "execution_count": null,
   "metadata": {},
   "outputs": [],
   "source": [
    "# Store the Standard Error of Tumor Volumes Grouped by Drug and Timepoint\n",
    "df4 = df2.groupby(['Drug', 'Timepoint']).agg({'TV':\"sem\"})\n",
    "df4=df4.reset_index()\n",
    "\n",
    "df4.head(20)\n",
    "\n"
   ]
  },
  {
   "cell_type": "code",
   "execution_count": null,
   "metadata": {},
   "outputs": [],
   "source": [
    "# Minor Data Munging to Re-Format the Data Frames\n",
    "df5 = df3.pivot_table('TV',['Timepoint'],'Drug')\n",
    "df5\n",
    "\n"
   ]
  },
  {
   "cell_type": "code",
   "execution_count": null,
   "metadata": {
    "scrolled": true
   },
   "outputs": [],
   "source": [
    "\n",
    "\n",
    "df6 = df4.pivot_table('TV',['Timepoint'],'Drug')\n",
    "df6\n",
    "\n"
   ]
  },
  {
   "cell_type": "code",
   "execution_count": null,
   "metadata": {},
   "outputs": [],
   "source": [
    "# Generate the Plot (with Error Bars)\n",
    "errors = df6\n",
    "\n",
    "ax=df5.plot(yerr = errors)\n",
    "plt.title(\"Mean Tumor Volume Data Grouped by Drug and Timepoint\")\n",
    "plt.legend(bbox_to_anchor=(1,0),loc = 'lower left')\n",
    "ax.set_ylabel(\"Tumor Volume (mm3)\")\n",
    "plt.grid(axis = \"y\")\n",
    "\n",
    "# Save the Figure\n",
    "fig = plt.figure()\n",
    "plt.savefig('Tumor_volume.png')"
   ]
  },
  {
   "cell_type": "code",
   "execution_count": null,
   "metadata": {},
   "outputs": [],
   "source": [
    "# Show the Figure\n",
    "plt.show(\"ax\")"
   ]
  },
  {
   "cell_type": "markdown",
   "metadata": {},
   "source": [
    "![Tumor Response to Treatment](../Images/treatment.png)"
   ]
  },
  {
   "cell_type": "markdown",
   "metadata": {},
   "source": [
    "## Metastatic Response to Treatment"
   ]
  },
  {
   "cell_type": "code",
   "execution_count": null,
   "metadata": {},
   "outputs": [],
   "source": [
    "# Store the Mean Met. Site Data Grouped by Drug and Timepoint \n",
    "df7 = df2.groupby(['Drug', 'Timepoint']).agg({'MS':\"mean\"})\n",
    "df7=df7.reset_index()\n",
    "\n",
    "\n",
    "df7.head(20)\n"
   ]
  },
  {
   "cell_type": "code",
   "execution_count": null,
   "metadata": {},
   "outputs": [],
   "source": []
  },
  {
   "cell_type": "code",
   "execution_count": null,
   "metadata": {},
   "outputs": [],
   "source": [
    "# Store the Standard Error associated with Met. Sites Grouped by Drug and Timepoint \n",
    "df8 = df2.groupby(['Drug', 'Timepoint']).agg({'MS':\"sem\"})\n",
    "df8=df8.reset_index()\n",
    "\n",
    "df8.head(20)\n"
   ]
  },
  {
   "cell_type": "code",
   "execution_count": null,
   "metadata": {},
   "outputs": [],
   "source": []
  },
  {
   "cell_type": "code",
   "execution_count": null,
   "metadata": {},
   "outputs": [],
   "source": [
    "# Minor Data Munging to Re-Format the Data Frames\n",
    "df9 = df7.pivot_table('MS',['Timepoint'],'Drug')\n",
    "df9\n",
    "# Preview that Reformatting worked\n"
   ]
  },
  {
   "cell_type": "code",
   "execution_count": null,
   "metadata": {
    "scrolled": true
   },
   "outputs": [],
   "source": [
    "df10 = df8.pivot_table('MS',['Timepoint'],'Drug')\n",
    "df10"
   ]
  },
  {
   "cell_type": "code",
   "execution_count": null,
   "metadata": {},
   "outputs": [],
   "source": [
    "# Generate the Plot (with Error Bars)\n",
    "errors = df10\n",
    "fig = plt.figure()\n",
    "\n",
    "ax=df9.plot(yerr = errors)\n",
    "\n",
    "plt.legend(bbox_to_anchor=(1,0),loc = 'lower left')\n",
    "plt.grid(axis = \"y\")\n",
    "\n",
    "plt.title(\"Mean Met. Site Data Grouped by Drug and Timepoint \")\n",
    "plt.legend(bbox_to_anchor=(1,0),loc = 'lower left')\n",
    "ax.set_ylabel(\"Metastatic Response\")\n",
    "\n",
    "# Show the Figure\n",
    "plt.savefig('Mean_Met_Resp.png')\n"
   ]
  },
  {
   "cell_type": "markdown",
   "metadata": {},
   "source": [
    "![Metastatic Spread During Treatment](../Images/spread.png)"
   ]
  },
  {
   "cell_type": "markdown",
   "metadata": {},
   "source": [
    "## Survival Rates"
   ]
  },
  {
   "cell_type": "code",
   "execution_count": null,
   "metadata": {},
   "outputs": [],
   "source": [
    "# Store the Count of Mice Grouped by Drug and Timepoint (W can pass any metric)\n",
    "df11 = trial_data_df.rename(columns={\"Mouse ID\": \"mID\",\n",
    "                          \"Tumor Volume (mm3)\": \"TV\",\n",
    "                          \"Metastatic Sites\":\"MS\"})\n",
    "\n",
    "df12 = df11.groupby(['Drug', 'Timepoint']).agg({'mID':'count'})\n",
    "df12=df12.reset_index()\n",
    "\n",
    "df12.head(20)\n",
    "# Convert to DataFrame\n",
    "\n",
    "# Preview DataFrame\n"
   ]
  },
  {
   "cell_type": "code",
   "execution_count": null,
   "metadata": {},
   "outputs": [],
   "source": []
  },
  {
   "cell_type": "code",
   "execution_count": null,
   "metadata": {},
   "outputs": [],
   "source": [
    "# Minor Data Munging to Re-Format the Data Frames\n",
    "df13 = df12.pivot_table('mID',['Timepoint'],'Drug')\n",
    "df13\n",
    "# Preview the Data Frame\n"
   ]
  },
  {
   "cell_type": "code",
   "execution_count": null,
   "metadata": {
    "scrolled": true
   },
   "outputs": [],
   "source": [
    "df14 = df13.max()\n",
    "\n",
    "df15 = (df13/df14)*100\n",
    "\n",
    "df15"
   ]
  },
  {
   "cell_type": "code",
   "execution_count": null,
   "metadata": {},
   "outputs": [],
   "source": [
    "# Generate the Plot (Accounting for percentages)\n",
    "fig = plt.figure()\n",
    "ax=df15.plot()\n",
    "\n",
    "plt.legend(bbox_to_anchor=(1,0),loc = 'lower left')\n",
    "plt.grid(axis = \"y\")\n",
    "\n",
    "plt.title(\"Mice Survival Data Grouped by Drug and Timepoint \")\n",
    "plt.legend(bbox_to_anchor=(1,0),loc = 'lower left')\n",
    "ax.set_ylabel(\"% Mice Survival\")\n",
    "\n",
    "# Save the Figure\n",
    "plt.savefig('Mice_Survival.png')\n",
    "\n",
    "# Show the Figure\n",
    "plt.show()\n"
   ]
  },
  {
   "cell_type": "markdown",
   "metadata": {},
   "source": [
    "![Metastatic Spread During Treatment](../Images/survival.png)"
   ]
  },
  {
   "cell_type": "markdown",
   "metadata": {},
   "source": [
    "## Summary Bar Graph"
   ]
  },
  {
   "cell_type": "code",
   "execution_count": null,
   "metadata": {},
   "outputs": [],
   "source": [
    "# Calculate the percent changes for each drug\n",
    "df16= df5.loc[df5.index[-1]] - df5.loc[df5.index[0]]\n",
    "df16=df16.reset_index()\n",
    "\n",
    "df16.rename(columns = {0: \"Change\"}, inplace = True)\n",
    "\n",
    "df16['Change'] = round((df16['Change']),2)\n",
    "\n",
    "df16['positive']=df16['Change'] >0\n",
    "df16.loc[df16.positive == True,'Colors'] = 'r'\n",
    "df16.loc[df16.positive == False,'Colors'] = 'g'\n",
    "\n",
    "\n",
    "\n",
    "df16\n",
    "# Display the data to confirm\n"
   ]
  },
  {
   "cell_type": "code",
   "execution_count": null,
   "metadata": {},
   "outputs": [],
   "source": []
  },
  {
   "cell_type": "code",
   "execution_count": null,
   "metadata": {},
   "outputs": [],
   "source": [
    "# Store all Relevant Percent Changes into a Tuple\n",
    "\n",
    "\n",
    "# Splice the data between passing and failing drugs\n",
    "\n",
    "\n",
    "# Orient widths. Add labels, tick marks, etc. \n",
    "plt.bar(df16.Drug,df16.Change,color = df16['Colors'])\n",
    "plt.title(\"Tumor Change Over 45 Day Treatment\")\n",
    "plt.xticks(rotation = 90)\n",
    "plt.grid(axis = \"y\")\n",
    "plt.ylabel(\"% Tumor Volume Change\")\n",
    "\n",
    "# Use functions to label the percentages of changes\n",
    "\n",
    "for index,data in enumerate(df16.Change):\n",
    "    plt.text(index, data, str(data))\n",
    "\n",
    "# Call functions to implement the function calls\n",
    "\n",
    "\n",
    "# Save the Figure\n",
    "fig = plt.figure()\n",
    "plt.savefig('%Tumor_Change.png')\n",
    "\n",
    "# Show the Figure\n",
    "fig.show()"
   ]
  },
  {
   "cell_type": "markdown",
   "metadata": {},
   "source": [
    "![Metastatic Spread During Treatment](../Images/change.png)"
   ]
  },
  {
   "cell_type": "code",
   "execution_count": null,
   "metadata": {},
   "outputs": [],
   "source": []
  }
 ],
 "metadata": {
  "anaconda-cloud": {},
  "kernelspec": {
   "display_name": "Python 3",
   "language": "python",
   "name": "python3"
  },
  "language_info": {
   "codemirror_mode": {
    "name": "ipython",
    "version": 3
   },
   "file_extension": ".py",
   "mimetype": "text/x-python",
   "name": "python",
   "nbconvert_exporter": "python",
   "pygments_lexer": "ipython3",
   "version": "3.7.4"
  }
 },
 "nbformat": 4,
 "nbformat_minor": 1
}
